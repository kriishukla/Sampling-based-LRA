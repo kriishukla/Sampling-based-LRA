{
 "cells": [
  {
   "cell_type": "markdown",
   "metadata": {},
   "source": [
    "Importing Libraries"
   ]
  },
  {
   "cell_type": "code",
   "execution_count": 26,
   "metadata": {},
   "outputs": [],
   "source": [
    "import hashlib\n",
    "import random\n",
    "import pandas as pd"
   ]
  },
  {
   "cell_type": "markdown",
   "metadata": {},
   "source": [
    "A"
   ]
  },
  {
   "cell_type": "code",
   "execution_count": 27,
   "metadata": {},
   "outputs": [],
   "source": [
    "\n",
    "class HashTableUniversal:\n",
    "    def __init__(self, m):\n",
    "        self.m = m\n",
    "        self.p = 524287  \n",
    "        self.a = random.randint(1, self.p - 1)  \n",
    "        self.table = [[] for _ in range(m)] \n",
    "    \n",
    "    def hash_function(self, x):\n",
    "        return ((self.a * x) % self.p) % self.m\n",
    "    \n",
    "    def insert(self, x):\n",
    "        index = self.hash_function(x)\n",
    "        self.table[index].append(x)\n",
    "    \n",
    "    def search(self, x):\n",
    "        index = self.hash_function(x)\n",
    "        return x in self.table[index]\n",
    "    \n",
    "    def remove(self, x):\n",
    "        index = self.hash_function(x)\n",
    "        if x in self.table[index]:\n",
    "            self.table[index].remove(x)\n",
    "    \n",
    "    def __str__(self):\n",
    "        return str(self.table)\n",
    "    def max_chain_length(self):\n",
    "        return max(len(chain) for chain in self.table)\n",
    "\n"
   ]
  },
  {
   "cell_type": "markdown",
   "metadata": {},
   "source": [
    "Testing our Newly Made Class"
   ]
  },
  {
   "cell_type": "code",
   "execution_count": 28,
   "metadata": {},
   "outputs": [
    {
     "name": "stdout",
     "output_type": "stream",
     "text": [
      "[[25], [], [15], [], [], [], [], [], [35], []]\n",
      "True\n",
      "False\n",
      "1\n",
      "[[], [], [15], [], [], [], [], [], [35], []]\n"
     ]
    }
   ],
   "source": [
    "ht = HashTableUniversal(10) \n",
    "ht.insert(25)  \n",
    "ht.insert(15) \n",
    "ht.insert(35) \n",
    "print(ht) \n",
    "print(ht.search(25))  \n",
    "print(ht.search(100))  \n",
    "ht.remove(25) \n",
    "print(ht.max_chain_length())\n",
    "print(ht) \n"
   ]
  },
  {
   "cell_type": "markdown",
   "metadata": {},
   "source": [
    "B"
   ]
  },
  {
   "cell_type": "code",
   "execution_count": 29,
   "metadata": {},
   "outputs": [],
   "source": [
    "\n",
    "def hash_string(word):\n",
    "    hash_object = hashlib.md5(word.encode())\n",
    "    hex_hash = hash_object.hexdigest()  \n",
    "    last_4_digits = hex_hash[-4:] \n",
    "    return int(last_4_digits, 16)  \n",
    "\n"
   ]
  },
  {
   "cell_type": "markdown",
   "metadata": {},
   "source": [
    "Testing Our Hashlib Function"
   ]
  },
  {
   "cell_type": "code",
   "execution_count": 30,
   "metadata": {},
   "outputs": [
    {
     "data": {
      "text/plain": [
       "38271"
      ]
     },
     "execution_count": 30,
     "metadata": {},
     "output_type": "execute_result"
    }
   ],
   "source": [
    "hash_string(\"apple\")"
   ]
  },
  {
   "cell_type": "markdown",
   "metadata": {},
   "source": [
    "C"
   ]
  },
  {
   "cell_type": "code",
   "execution_count": 31,
   "metadata": {},
   "outputs": [],
   "source": [
    "class HashTableRandom:\n",
    "    def __init__(self, m):\n",
    "        self.m = m\n",
    "        self.table = {i: [] for i in range(m)}  \n",
    "    \n",
    "    def hash_function(self, x):\n",
    "        return int(self.m * random.random())\n",
    "    \n",
    "    def insert(self, x):\n",
    "        bucket_index = self.hash_function(x)\n",
    "        self.table[bucket_index].append(x) \n",
    "        \n",
    "    def search(self, x):\n",
    "        index = self.hash_function(x)\n",
    "        return x in self.table[index]\n",
    "    \n",
    "    def remove(self, x):\n",
    "        index = self.hash_function(x)\n",
    "        if x in self.table[index]:\n",
    "            self.table[index].remove(x)\n",
    "            \n",
    "    def __str__(self):\n",
    "        return str(self.table)\n",
    "\n",
    "    def max_chain_length(self):\n",
    "        return max(len(chain) for chain in self.table.values())\n"
   ]
  },
  {
   "cell_type": "markdown",
   "metadata": {},
   "source": [
    "Testing our Newly Made Class"
   ]
  },
  {
   "cell_type": "code",
   "execution_count": 32,
   "metadata": {},
   "outputs": [
    {
     "name": "stdout",
     "output_type": "stream",
     "text": [
      "True\n",
      "False\n",
      "1\n",
      "False\n",
      "{0: [20], 1: [], 2: [], 3: [], 4: [], 5: [], 6: [15], 7: [], 8: [10], 9: []}\n"
     ]
    }
   ],
   "source": [
    "hash_table = HashTableRandom(10)\n",
    "hash_table.insert(10)\n",
    "hash_table.insert(20)\n",
    "hash_table.insert(15)\n",
    "\n",
    "print(hash_table.search(10))\n",
    "print(hash_table.search(25))  \n",
    "print(hash_table.max_chain_length())  \n",
    "hash_table.remove(10)\n",
    "print(hash_table.search(10))  \n",
    "print(hash_table)"
   ]
  },
  {
   "cell_type": "code",
   "execution_count": 33,
   "metadata": {},
   "outputs": [],
   "source": [
    "def experiment_hash_functions(m=500000):\n",
    "    universal_table = HashTableUniversal(m)\n",
    "    random_table = HashTableRandom(m)\n",
    "\n",
    "    for x in range(1, m + 1):\n",
    "        universal_index = universal_table.hash_function(x)\n",
    "        universal_table.table[universal_index].append(x)\n",
    "\n",
    "        random_table.insert(x)\n",
    "\n",
    "    universal_chain_lengths = [len(bucket) for bucket in universal_table.table]\n",
    "    max_universal = max(universal_chain_lengths)\n",
    "    min_universal = min(universal_chain_lengths)\n",
    "\n",
    "    random_chain_lengths = [len(bucket) for bucket in random_table.table.values()]\n",
    "    max_random = max(random_chain_lengths)\n",
    "    min_random = min(random_chain_lengths)\n",
    "\n",
    "    return {\n",
    "        'Max Chain Length': [max_universal, max_random],\n",
    "        'Min Chain Length': [min_universal, min_random],\n",
    "    }\n"
   ]
  },
  {
   "cell_type": "code",
   "execution_count": 34,
   "metadata": {},
   "outputs": [
    {
     "name": "stdout",
     "output_type": "stream",
     "text": [
      "                         Max Chain Length  Min Chain Length\n",
      "Universal Hash Function                 2                 0\n",
      "Random Hash Function                    8                 0\n",
      "                         Max Chain Length  Min Chain Length\n",
      "Universal Hash Function                 2                 0\n",
      "Random Hash Function                    8                 0\n",
      "                         Max Chain Length  Min Chain Length\n",
      "Universal Hash Function                 2                 0\n",
      "Random Hash Function                    9                 0\n",
      "                         Max Chain Length  Min Chain Length\n",
      "Universal Hash Function                 2                 0\n",
      "Random Hash Function                    9                 0\n",
      "                         Max Chain Length  Min Chain Length\n",
      "Universal Hash Function                 2                 0\n",
      "Random Hash Function                    8                 0\n"
     ]
    }
   ],
   "source": [
    "for i in range(5):\n",
    "    result = experiment_hash_functions()\n",
    "    df = pd.DataFrame(result, index=['Universal Hash Function', 'Random Hash Function'])\n",
    "    print(df)"
   ]
  },
  {
   "cell_type": "code",
   "execution_count": 35,
   "metadata": {},
   "outputs": [],
   "source": [
    "class FlajoletMartin:\n",
    "    def __init__(self, m=500000):\n",
    "        self.m = m\n",
    "        self.ht = HashTableUniversal(m)\n",
    "        self.max_trailing_zeros = 0  \n",
    "    def trailing_zeroes_count(self, n):\n",
    "        count = 0\n",
    "        while (n % 2) == 0 and n > 0:\n",
    "            count += 1\n",
    "            n //= 2\n",
    "        return count\n",
    "\n",
    "    def estimate_unique_count(self, words):\n",
    "        for word in words:\n",
    "            hash_object = hashlib.md5(word.encode())\n",
    "            hex_hash = hash_object.hexdigest()  \n",
    "            last_4_digits = hex_hash[-4:]  \n",
    "            \n",
    "            word_id = int(last_4_digits, 16)\n",
    "            \n",
    "            hash_value = self.ht.hash_function(word_id)\n",
    "            \n",
    "            trailing_zeros = self.trailing_zeroes_count(hash_value)\n",
    "            \n",
    "            self.max_trailing_zeros = max(self.max_trailing_zeros, trailing_zeros)\n",
    "\n",
    "        estimated_unique_count = 2 ** (self.max_trailing_zeros + 0.5)\n",
    "        return estimated_unique_count"
   ]
  },
  {
   "cell_type": "markdown",
   "metadata": {},
   "source": [
    "Testing our Newly Made Class"
   ]
  },
  {
   "cell_type": "code",
   "execution_count": 36,
   "metadata": {},
   "outputs": [
    {
     "name": "stdout",
     "output_type": "stream",
     "text": [
      "trailing_zeroes_count(8) = 3, Expected: 3\n",
      "trailing_zeroes_count(16) = 4, Expected: 4\n",
      "trailing_zeroes_count(5) = 0, Expected: 0\n",
      "trailing_zeroes_count(32) = 5, Expected: 5\n"
     ]
    }
   ],
   "source": [
    "def test_trailing_zeroes_count():\n",
    "    test_cases = [8, 16, 5, 32]\n",
    "    expected_results = [3, 4, 0, 5]\n",
    "\n",
    "    for n, expected in zip(test_cases, expected_results):\n",
    "        result = flajolet_martin.trailing_zeroes_count(n)\n",
    "        print(f\"trailing_zeroes_count({n}) = {result}, Expected: {expected}\")\n",
    "        assert result == expected, f\"Test failed for {n}\"\n",
    "\n",
    "flajolet_martin = FlajoletMartin(m=500000)\n",
    "\n",
    "test_trailing_zeroes_count()"
   ]
  },
  {
   "cell_type": "code",
   "execution_count": 40,
   "metadata": {},
   "outputs": [
    {
     "name": "stdout",
     "output_type": "stream",
     "text": [
      "Estimated unique count: 5.656854249492381\n"
     ]
    }
   ],
   "source": [
    "flajolet_martin = FlajoletMartin(m=500000)\n",
    "\n",
    "words = [\"apple\", \"banana\", \"cherry\", \"apple\", \"banana\", \"date\", \"egg\"]\n",
    "\n",
    "estimated_count = flajolet_martin.estimate_unique_count(words)\n",
    "\n",
    "print(f\"Estimated unique count: {estimated_count}\")"
   ]
  },
  {
   "cell_type": "code",
   "execution_count": 41,
   "metadata": {},
   "outputs": [
    {
     "data": {
      "text/plain": [
       "46340.95001184158"
      ]
     },
     "execution_count": 41,
     "metadata": {},
     "output_type": "execute_result"
    }
   ],
   "source": [
    "with open('words.txt', 'r') as file:\n",
    "    words = [line.strip() for line in file]\n",
    "fm_estimator = FlajoletMartin(m=500000)\n",
    "estimated_count = fm_estimator.estimate_unique_count(words)\n",
    "\n",
    "estimated_count"
   ]
  },
  {
   "cell_type": "code",
   "execution_count": 39,
   "metadata": {},
   "outputs": [
    {
     "name": "stdout",
     "output_type": "stream",
     "text": [
      "354984\n"
     ]
    }
   ],
   "source": [
    "set1=set()\n",
    "for i in range(len(words)):\n",
    "    set1.add(words[i])\n",
    "print(len(set1))"
   ]
  },
  {
   "cell_type": "code",
   "execution_count": null,
   "metadata": {},
   "outputs": [],
   "source": []
  }
 ],
 "metadata": {
  "kernelspec": {
   "display_name": "Python 3",
   "language": "python",
   "name": "python3"
  },
  "language_info": {
   "codemirror_mode": {
    "name": "ipython",
    "version": 3
   },
   "file_extension": ".py",
   "mimetype": "text/x-python",
   "name": "python",
   "nbconvert_exporter": "python",
   "pygments_lexer": "ipython3",
   "version": "3.12.3"
  }
 },
 "nbformat": 4,
 "nbformat_minor": 2
}
