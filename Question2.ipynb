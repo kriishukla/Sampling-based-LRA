{
  "metadata": {
    "kernelspec": {
      "language": "python",
      "display_name": "Python 3",
      "name": "python3"
    },
    "language_info": {
      "name": "python",
      "version": "3.10.14",
      "mimetype": "text/x-python",
      "codemirror_mode": {
        "name": "ipython",
        "version": 3
      },
      "pygments_lexer": "ipython3",
      "nbconvert_exporter": "python",
      "file_extension": ".py"
    },
    "kaggle": {
      "accelerator": "none",
      "dataSources": [],
      "dockerImageVersionId": 30786,
      "isInternetEnabled": true,
      "language": "python",
      "sourceType": "notebook",
      "isGpuEnabled": false
    },
    "colab": {
      "name": "DSC_Assn_2",
      "provenance": []
    }
  },
  "nbformat_minor": 0,
  "nbformat": 4,
  "cells": [
    {
      "cell_type": "code",
      "source": [
        "import numpy as np\n",
        "import pandas as pd\n",
        "from sklearn.datasets import fetch_kddcup99\n",
        "from sklearn.cluster import KMeans\n",
        "from sklearn.linear_model import LinearRegression\n",
        "from sklearn.metrics import mean_squared_error\n",
        "from sklearn.preprocessing import LabelEncoder\n",
        "import matplotlib.pyplot as plt"
      ],
      "metadata": {
        "trusted": true,
        "execution": {
          "iopub.status.busy": "2024-11-25T15:12:54.382175Z",
          "iopub.execute_input": "2024-11-25T15:12:54.382614Z",
          "iopub.status.idle": "2024-11-25T15:12:57.542341Z",
          "shell.execute_reply.started": "2024-11-25T15:12:54.382575Z",
          "shell.execute_reply": "2024-11-25T15:12:57.54135Z"
        },
        "id": "cbhCEOyt-7dZ"
      },
      "outputs": [],
      "execution_count": null
    },
    {
      "cell_type": "code",
      "source": [
        "np.random.seed(42)\n"
      ],
      "metadata": {
        "trusted": true,
        "execution": {
          "iopub.status.busy": "2024-11-25T15:12:57.544872Z",
          "iopub.execute_input": "2024-11-25T15:12:57.545649Z",
          "iopub.status.idle": "2024-11-25T15:12:57.550707Z",
          "shell.execute_reply.started": "2024-11-25T15:12:57.545594Z",
          "shell.execute_reply": "2024-11-25T15:12:57.549409Z"
        },
        "id": "gaRo4vUV-7db"
      },
      "outputs": [],
      "execution_count": null
    },
    {
      "cell_type": "code",
      "source": [
        "data = fetch_kddcup99()\n",
        "D = pd.DataFrame(data['data'], columns=data['feature_names'])"
      ],
      "metadata": {
        "trusted": true,
        "execution": {
          "iopub.status.busy": "2024-11-25T15:12:57.551907Z",
          "iopub.execute_input": "2024-11-25T15:12:57.55225Z",
          "iopub.status.idle": "2024-11-25T15:13:22.53551Z",
          "shell.execute_reply.started": "2024-11-25T15:12:57.552219Z",
          "shell.execute_reply": "2024-11-25T15:13:22.534578Z"
        },
        "id": "nCWmmNrF-7dd"
      },
      "outputs": [],
      "execution_count": null
    },
    {
      "cell_type": "code",
      "source": [
        "columns_to_encode = D.columns[1:4]\n",
        "D_encoded = pd.get_dummies(D, columns=columns_to_encode).astype(int)"
      ],
      "metadata": {
        "trusted": true,
        "execution": {
          "iopub.status.busy": "2024-11-25T15:13:22.537662Z",
          "iopub.execute_input": "2024-11-25T15:13:22.538018Z",
          "iopub.status.idle": "2024-11-25T15:13:24.756985Z",
          "shell.execute_reply.started": "2024-11-25T15:13:22.537983Z",
          "shell.execute_reply": "2024-11-25T15:13:24.755542Z"
        },
        "id": "ovVvOoLR-7de"
      },
      "outputs": [],
      "execution_count": null
    },
    {
      "cell_type": "code",
      "source": [
        "D = D_encoded.to_numpy()\n",
        "n, d = D.shape\n",
        "print(f\"Number of samples (n): {n}, Number of features (d): {d}\")"
      ],
      "metadata": {
        "trusted": true,
        "execution": {
          "iopub.status.busy": "2024-11-25T15:13:24.75839Z",
          "iopub.execute_input": "2024-11-25T15:13:24.758858Z",
          "iopub.status.idle": "2024-11-25T15:13:24.936856Z",
          "shell.execute_reply.started": "2024-11-25T15:13:24.75881Z",
          "shell.execute_reply": "2024-11-25T15:13:24.935689Z"
        },
        "id": "XV3l0Zqi-7dg",
        "outputId": "541aaccd-a53e-40fb-bc03-78f3a994fe97"
      },
      "outputs": [
        {
          "name": "stdout",
          "text": "Number of samples (n): 494021, Number of features (d): 118\n",
          "output_type": "stream"
        }
      ],
      "execution_count": null
    },
    {
      "cell_type": "code",
      "source": [
        "y = data['target']\n",
        "label_encoder = LabelEncoder()\n",
        "y_encoded = label_encoder.fit_transform(y)"
      ],
      "metadata": {
        "trusted": true,
        "execution": {
          "iopub.status.busy": "2024-11-25T15:13:24.938592Z",
          "iopub.execute_input": "2024-11-25T15:13:24.939077Z",
          "iopub.status.idle": "2024-11-25T15:13:25.087452Z",
          "shell.execute_reply.started": "2024-11-25T15:13:24.939029Z",
          "shell.execute_reply": "2024-11-25T15:13:25.086009Z"
        },
        "id": "gQogfg6K-7dh"
      },
      "outputs": [],
      "execution_count": null
    },
    {
      "cell_type": "code",
      "source": [
        "def create_jl_matrix(d, target_dim):\n",
        "    return np.random.normal(0, 1, (d, target_dim)) / np.sqrt(target_dim)"
      ],
      "metadata": {
        "trusted": true,
        "execution": {
          "iopub.status.busy": "2024-11-25T15:13:25.088971Z",
          "iopub.execute_input": "2024-11-25T15:13:25.089412Z",
          "iopub.status.idle": "2024-11-25T15:13:25.094621Z",
          "shell.execute_reply.started": "2024-11-25T15:13:25.089366Z",
          "shell.execute_reply": "2024-11-25T15:13:25.093511Z"
        },
        "id": "Ic95MOKD-7dj"
      },
      "outputs": [],
      "execution_count": null
    },
    {
      "cell_type": "code",
      "source": [
        "def create_sparse_jl_matrix(rows, cols, sparsity=3):\n",
        "    M = np.zeros((rows, cols))\n",
        "    for i in range(cols):\n",
        "        non_zero_indices = np.random.choice(rows, size=sparsity, replace=False)\n",
        "        M[non_zero_indices, i] = np.random.choice([-1, 1], size=sparsity)\n",
        "    return M / np.sqrt(rows)"
      ],
      "metadata": {
        "trusted": true,
        "execution": {
          "iopub.status.busy": "2024-11-25T15:13:25.096074Z",
          "iopub.execute_input": "2024-11-25T15:13:25.096417Z",
          "iopub.status.idle": "2024-11-25T15:13:25.106024Z",
          "shell.execute_reply.started": "2024-11-25T15:13:25.096385Z",
          "shell.execute_reply": "2024-11-25T15:13:25.104616Z"
        },
        "id": "j6U85Sao-7dk"
      },
      "outputs": [],
      "execution_count": null
    },
    {
      "cell_type": "code",
      "source": [
        "def compute_kmeans_loss(data, k):\n",
        "    kmeans = KMeans(n_clusters=k, random_state=42)\n",
        "    kmeans.fit(data)\n",
        "    return kmeans.inertia_"
      ],
      "metadata": {
        "trusted": true,
        "execution": {
          "iopub.status.busy": "2024-11-25T15:13:25.10755Z",
          "iopub.execute_input": "2024-11-25T15:13:25.107943Z",
          "iopub.status.idle": "2024-11-25T15:13:25.116262Z",
          "shell.execute_reply.started": "2024-11-25T15:13:25.107908Z",
          "shell.execute_reply": "2024-11-25T15:13:25.115186Z"
        },
        "id": "buCu7qQX-7dm"
      },
      "outputs": [],
      "execution_count": null
    },
    {
      "cell_type": "code",
      "source": [
        "def compute_linear_regression_loss(X, y, coef):\n",
        "    predictions = X @ coef.T\n",
        "    return mean_squared_error(y, predictions)\n"
      ],
      "metadata": {
        "trusted": true,
        "execution": {
          "iopub.status.busy": "2024-11-25T15:13:25.119208Z",
          "iopub.execute_input": "2024-11-25T15:13:25.119586Z",
          "iopub.status.idle": "2024-11-25T15:13:25.128055Z",
          "shell.execute_reply.started": "2024-11-25T15:13:25.119551Z",
          "shell.execute_reply": "2024-11-25T15:13:25.126802Z"
        },
        "id": "8_y6qZXU-7dn"
      },
      "outputs": [],
      "execution_count": null
    },
    {
      "cell_type": "code",
      "source": [
        "target_dim = 20\n",
        "k = 15\n",
        "loss_results = []"
      ],
      "metadata": {
        "trusted": true,
        "execution": {
          "iopub.status.busy": "2024-11-25T15:13:25.129573Z",
          "iopub.execute_input": "2024-11-25T15:13:25.130045Z",
          "iopub.status.idle": "2024-11-25T15:13:25.141985Z",
          "shell.execute_reply.started": "2024-11-25T15:13:25.129994Z",
          "shell.execute_reply": "2024-11-25T15:13:25.140733Z"
        },
        "id": "yHyUhNeP-7do"
      },
      "outputs": [],
      "execution_count": null
    },
    {
      "cell_type": "code",
      "source": [
        "for experiment in range(5):\n",
        "    M = create_jl_matrix(d, target_dim)\n",
        "\n",
        "    E = D @ M\n",
        "\n",
        "    loss_A = compute_kmeans_loss(E, k)\n",
        "    loss_B = compute_kmeans_loss(D, k)\n",
        "\n",
        "    loss_results.append((loss_A, loss_B))\n",
        "    print(f\"Experiment {experiment + 1}: Loss (DM) = {loss_A}, Loss (D) = {loss_B}\")"
      ],
      "metadata": {
        "trusted": true,
        "execution": {
          "iopub.status.busy": "2024-11-25T15:13:25.14335Z",
          "iopub.execute_input": "2024-11-25T15:13:25.143788Z",
          "iopub.status.idle": "2024-11-25T15:15:54.330367Z",
          "shell.execute_reply.started": "2024-11-25T15:13:25.143752Z",
          "shell.execute_reply": "2024-11-25T15:15:54.329153Z"
        },
        "id": "b1D0iepJ-7dp",
        "outputId": "b957b47a-4dff-4d8b-e6d8-4ab9e1d660dc"
      },
      "outputs": [
        {
          "name": "stderr",
          "text": "/opt/conda/lib/python3.10/site-packages/sklearn/cluster/_kmeans.py:870: FutureWarning: The default value of `n_init` will change from 10 to 'auto' in 1.4. Set the value of `n_init` explicitly to suppress the warning\n  warnings.warn(\n/opt/conda/lib/python3.10/site-packages/sklearn/cluster/_kmeans.py:870: FutureWarning: The default value of `n_init` will change from 10 to 'auto' in 1.4. Set the value of `n_init` explicitly to suppress the warning\n  warnings.warn(\n",
          "output_type": "stream"
        },
        {
          "name": "stdout",
          "text": "Experiment 1: Loss (DM) = 2403350993427.7593, Loss (D) = 3231460464214.2817\n",
          "output_type": "stream"
        },
        {
          "name": "stderr",
          "text": "/opt/conda/lib/python3.10/site-packages/sklearn/cluster/_kmeans.py:870: FutureWarning: The default value of `n_init` will change from 10 to 'auto' in 1.4. Set the value of `n_init` explicitly to suppress the warning\n  warnings.warn(\n/opt/conda/lib/python3.10/site-packages/sklearn/cluster/_kmeans.py:870: FutureWarning: The default value of `n_init` will change from 10 to 'auto' in 1.4. Set the value of `n_init` explicitly to suppress the warning\n  warnings.warn(\n",
          "output_type": "stream"
        },
        {
          "name": "stdout",
          "text": "Experiment 2: Loss (DM) = 2892746278964.188, Loss (D) = 3231460464214.283\n",
          "output_type": "stream"
        },
        {
          "name": "stderr",
          "text": "/opt/conda/lib/python3.10/site-packages/sklearn/cluster/_kmeans.py:870: FutureWarning: The default value of `n_init` will change from 10 to 'auto' in 1.4. Set the value of `n_init` explicitly to suppress the warning\n  warnings.warn(\n/opt/conda/lib/python3.10/site-packages/sklearn/cluster/_kmeans.py:870: FutureWarning: The default value of `n_init` will change from 10 to 'auto' in 1.4. Set the value of `n_init` explicitly to suppress the warning\n  warnings.warn(\n",
          "output_type": "stream"
        },
        {
          "name": "stdout",
          "text": "Experiment 3: Loss (DM) = 3586750027769.364, Loss (D) = 3231460464214.282\n",
          "output_type": "stream"
        },
        {
          "name": "stderr",
          "text": "/opt/conda/lib/python3.10/site-packages/sklearn/cluster/_kmeans.py:870: FutureWarning: The default value of `n_init` will change from 10 to 'auto' in 1.4. Set the value of `n_init` explicitly to suppress the warning\n  warnings.warn(\n/opt/conda/lib/python3.10/site-packages/sklearn/cluster/_kmeans.py:870: FutureWarning: The default value of `n_init` will change from 10 to 'auto' in 1.4. Set the value of `n_init` explicitly to suppress the warning\n  warnings.warn(\n",
          "output_type": "stream"
        },
        {
          "name": "stdout",
          "text": "Experiment 4: Loss (DM) = 2525666207573.271, Loss (D) = 3231460464214.2817\n",
          "output_type": "stream"
        },
        {
          "name": "stderr",
          "text": "/opt/conda/lib/python3.10/site-packages/sklearn/cluster/_kmeans.py:870: FutureWarning: The default value of `n_init` will change from 10 to 'auto' in 1.4. Set the value of `n_init` explicitly to suppress the warning\n  warnings.warn(\n/opt/conda/lib/python3.10/site-packages/sklearn/cluster/_kmeans.py:870: FutureWarning: The default value of `n_init` will change from 10 to 'auto' in 1.4. Set the value of `n_init` explicitly to suppress the warning\n  warnings.warn(\n",
          "output_type": "stream"
        },
        {
          "name": "stdout",
          "text": "Experiment 5: Loss (DM) = 2837933970504.2373, Loss (D) = 3231460464214.2827\n",
          "output_type": "stream"
        }
      ],
      "execution_count": null
    },
    {
      "cell_type": "code",
      "source": [
        "loss_results = np.array(loss_results)\n",
        "labels = [f\"Exp {i + 1}\" for i in range(5)]\n",
        "x = np.arange(len(labels))\n",
        "width = 0.35"
      ],
      "metadata": {
        "trusted": true,
        "execution": {
          "iopub.status.busy": "2024-11-25T15:15:54.331856Z",
          "iopub.execute_input": "2024-11-25T15:15:54.332203Z",
          "iopub.status.idle": "2024-11-25T15:15:54.338747Z",
          "shell.execute_reply.started": "2024-11-25T15:15:54.332169Z",
          "shell.execute_reply": "2024-11-25T15:15:54.337473Z"
        },
        "id": "LcU8X2aB-7dq"
      },
      "outputs": [],
      "execution_count": null
    },
    {
      "cell_type": "code",
      "source": [
        "\n",
        "fig, ax = plt.subplots(figsize=(8, 5))\n",
        "ax.bar(x - width / 2, loss_results[:, 0], width, label=\"Loss on DM\")\n",
        "ax.bar(x + width / 2, loss_results[:, 1], width, label=\"Loss on D\")\n",
        "\n",
        "ax.set_ylabel(\"Loss\")\n",
        "ax.set_title(\"Comparison of Clustering Loss on D and DM\")\n",
        "ax.set_xticks(x)\n",
        "ax.set_xticklabels(labels)\n",
        "ax.legend()\n",
        "\n",
        "plt.tight_layout()\n",
        "plt.show()"
      ],
      "metadata": {
        "trusted": true,
        "execution": {
          "iopub.status.busy": "2024-11-25T15:15:54.340265Z",
          "iopub.execute_input": "2024-11-25T15:15:54.340629Z",
          "iopub.status.idle": "2024-11-25T15:15:54.627403Z",
          "shell.execute_reply.started": "2024-11-25T15:15:54.340585Z",
          "shell.execute_reply": "2024-11-25T15:15:54.626245Z"
        },
        "id": "o4mvqMef-7dr",
        "outputId": "3e436a06-776c-4cb0-d5f4-f23ea7914925"
      },
      "outputs": [
        {
          "output_type": "display_data",
          "data": {
            "text/plain": "<Figure size 800x500 with 1 Axes>",
            "image/png": "[encoded data removed]"
          },
          "metadata": {}
        }
      ],
      "execution_count": null
    },
    {
      "cell_type": "code",
      "source": [
        "results = []\n",
        "rows = 10"
      ],
      "metadata": {
        "trusted": true,
        "execution": {
          "iopub.status.busy": "2024-11-25T15:15:54.629046Z",
          "iopub.execute_input": "2024-11-25T15:15:54.62955Z",
          "iopub.status.idle": "2024-11-25T15:15:54.635088Z",
          "shell.execute_reply.started": "2024-11-25T15:15:54.629497Z",
          "shell.execute_reply": "2024-11-25T15:15:54.633821Z"
        },
        "id": "EDDZ2zqQ-7dr"
      },
      "outputs": [],
      "execution_count": null
    },
    {
      "cell_type": "code",
      "source": [
        "for experiment in range(5):\n",
        "    M = create_sparse_jl_matrix(rows, d)\n",
        "    E = M @ D.T\n",
        "    model_a = LinearRegression()\n",
        "    model_a.fit(E.T, y_encoded)\n",
        "    a = model_a.coef_\n",
        "\n",
        "    model_b = LinearRegression()\n",
        "    model_b.fit(D, y_encoded)\n",
        "    b = model_b.coef_\n",
        "\n",
        "    predictions_a = E.T @ a\n",
        "    predictions_b = D @ b\n",
        "\n",
        "    loss_a = mean_squared_error(y_encoded, predictions_a)\n",
        "    loss_b = mean_squared_error(y_encoded, predictions_b)\n",
        "\n",
        "    results.append((loss_a, loss_b))\n",
        "    print(f\"Experiment {experiment + 1}: Loss (a) = {loss_a}, Loss (b) = {loss_b}\")"
      ],
      "metadata": {
        "trusted": true,
        "execution": {
          "iopub.status.busy": "2024-11-25T15:15:54.636643Z",
          "iopub.execute_input": "2024-11-25T15:15:54.636999Z",
          "iopub.status.idle": "2024-11-25T15:16:30.832127Z",
          "shell.execute_reply.started": "2024-11-25T15:15:54.636964Z",
          "shell.execute_reply": "2024-11-25T15:16:30.830071Z"
        },
        "id": "RhdgPo4x-7ds",
        "outputId": "c8e547bf-d300-4026-dff3-b56066898025"
      },
      "outputs": [
        {
          "name": "stdout",
          "text": "Experiment 1: Loss (a) = 139.84780206995083, Loss (b) = 95.76407952683539\nExperiment 2: Loss (a) = 130.74935035757042, Loss (b) = 95.76407952683539\nExperiment 3: Loss (a) = 172.50225186951695, Loss (b) = 95.76407952683539\nExperiment 4: Loss (a) = 123.59403689983168, Loss (b) = 95.76407952683539\nExperiment 5: Loss (a) = 100.06095502993911, Loss (b) = 95.76407952683539\n",
          "output_type": "stream"
        }
      ],
      "execution_count": null
    },
    {
      "cell_type": "code",
      "source": [
        "results = np.array(results)\n",
        "labels = [f\"Exp {i + 1}\" for i in range(5)]\n",
        "x = np.arange(len(labels))\n",
        "width = 0.35\n"
      ],
      "metadata": {
        "trusted": true,
        "execution": {
          "iopub.status.busy": "2024-11-25T15:16:30.834687Z",
          "iopub.execute_input": "2024-11-25T15:16:30.83644Z",
          "iopub.status.idle": "2024-11-25T15:16:30.84583Z",
          "shell.execute_reply.started": "2024-11-25T15:16:30.836365Z",
          "shell.execute_reply": "2024-11-25T15:16:30.844043Z"
        },
        "id": "ljkmFPnW-7ds"
      },
      "outputs": [],
      "execution_count": null
    },
    {
      "cell_type": "code",
      "source": [
        "\n",
        "fig, ax = plt.subplots(figsize=(8, 5))\n",
        "ax.bar(x - width / 2, results[:, 0], width, label=\"Loss using a (E, z)\")\n",
        "ax.bar(x + width / 2, results[:, 1], width, label=\"Loss using b (D, y)\")\n",
        "\n",
        "ax.set_ylabel(\"Loss\")\n",
        "ax.set_title(\"Comparison of Linear Regression Loss\")\n",
        "ax.set_xticks(x)\n",
        "ax.set_xticklabels(labels)\n",
        "ax.legend()\n",
        "\n",
        "plt.tight_layout()\n",
        "plt.show()"
      ],
      "metadata": {
        "trusted": true,
        "execution": {
          "iopub.status.busy": "2024-11-25T15:16:30.849495Z",
          "iopub.execute_input": "2024-11-25T15:16:30.851835Z",
          "iopub.status.idle": "2024-11-25T15:16:31.194098Z",
          "shell.execute_reply.started": "2024-11-25T15:16:30.851777Z",
          "shell.execute_reply": "2024-11-25T15:16:31.192931Z"
        },
        "id": "3fnzOfiy-7dt",
        "outputId": "ffd416b7-177c-47b0-9bbc-ce7dd3cf165f"
      },
      "outputs": [
        {
          "output_type": "display_data",
          "data": {
            "text/plain": "<Figure size 800x500 with 1 Axes>",
            "image/png": "[encoded data removed]"
          },
          "metadata": {}
        }
      ],
      "execution_count": null
    },
    {
      "cell_type": "code",
      "source": [
        "# import numpy as np\n",
        "# import pandas as pd\n",
        "# from sklearn.datasets import fetch_kddcup99\n",
        "# from sklearn.cluster import KMeans\n",
        "# from sklearn.linear_model import LinearRegression\n",
        "# from sklearn.metrics import mean_squared_error\n",
        "# from sklearn.preprocessing import LabelEncoder\n",
        "# import matplotlib.pyplot as plt\n",
        "\n",
        "# # Set random seed for reproducibility\n",
        "# np.random.seed(42)\n",
        "\n",
        "# # Load the KDD Cup 99 dataset\n",
        "# data = fetch_kddcup99()\n",
        "# D = pd.DataFrame(data['data'], columns=data['feature_names'])\n",
        "\n",
        "# # One-hot encode the categorical features\n",
        "# columns_to_encode = D.columns[1:4]\n",
        "# D_encoded = pd.get_dummies(D, columns=columns_to_encode).astype(int)\n",
        "\n",
        "# # Extract numerical matrix and dimensions\n",
        "# D = D_encoded.to_numpy()\n",
        "# n, d = D.shape\n",
        "# print(f\"Number of samples (n): {n}, Number of features (d): {d}\")\n",
        "\n",
        "# # Encode the target labels\n",
        "# y = data['target']\n",
        "# label_encoder = LabelEncoder()\n",
        "# y_encoded = label_encoder.fit_transform(y)\n",
        "\n",
        "# # Create a dense JL matrix\n",
        "# def create_jl_matrix(d, target_dim):\n",
        "#     \"\"\"Create a dense JL matrix with Gaussian random entries.\"\"\"\n",
        "#     return np.random.normal(0, 1, (d, target_dim)) / np.sqrt(target_dim)\n",
        "\n",
        "# # Create a sparse JL matrix\n",
        "# def create_sparse_jl_matrix(rows, cols, sparsity=3):\n",
        "#     \"\"\"Create a sparse JL matrix.\"\"\"\n",
        "#     M = np.zeros((rows, cols))\n",
        "#     for i in range(cols):\n",
        "#         non_zero_indices = np.random.choice(rows, size=sparsity, replace=False)\n",
        "#         M[non_zero_indices, i] = np.random.choice([-1, 1], size=sparsity)\n",
        "#     return M / np.sqrt(rows)\n",
        "\n",
        "# # Compute k-means clustering loss\n",
        "# def compute_kmeans_loss(data, k):\n",
        "#     \"\"\"Compute k-means clustering loss.\"\"\"\n",
        "#     kmeans = KMeans(n_clusters=k, random_state=42)\n",
        "#     kmeans.fit(data)\n",
        "#     return kmeans.inertia_\n",
        "\n",
        "# # Linear regression and loss computation\n",
        "# def compute_linear_regression_loss(X, y, coef):\n",
        "#     \"\"\"Compute linear regression loss.\"\"\"\n",
        "#     predictions = X @ coef.T\n",
        "#     return mean_squared_error(y, predictions)\n",
        "\n",
        "# # Part (a): K-means clustering with JL\n",
        "# target_dim = 20\n",
        "# k = 15\n",
        "# loss_results = []\n",
        "\n",
        "# for experiment in range(5):\n",
        "#     # Create a JL matrix\n",
        "#     M = create_jl_matrix(d, target_dim)\n",
        "\n",
        "#     # Map the data\n",
        "#     E = D @ M\n",
        "\n",
        "#     # Compute clustering loss for transformed and original data\n",
        "#     loss_A = compute_kmeans_loss(E, k)\n",
        "#     loss_B = compute_kmeans_loss(D, k)\n",
        "\n",
        "#     loss_results.append((loss_A, loss_B))\n",
        "#     print(f\"Experiment {experiment + 1}: Loss (DM) = {loss_A}, Loss (D) = {loss_B}\")\n",
        "\n",
        "# # Plot clustering loss results\n",
        "# loss_results = np.array(loss_results)\n",
        "# labels = [f\"Exp {i + 1}\" for i in range(5)]\n",
        "# x = np.arange(len(labels))\n",
        "# width = 0.35\n",
        "\n",
        "# fig, ax = plt.subplots(figsize=(8, 5))\n",
        "# ax.bar(x - width / 2, loss_results[:, 0], width, label=\"Loss on DM\")\n",
        "# ax.bar(x + width / 2, loss_results[:, 1], width, label=\"Loss on D\")\n",
        "\n",
        "# ax.set_ylabel(\"Loss\")\n",
        "# ax.set_title(\"Comparison of Clustering Loss on D and DM\")\n",
        "# ax.set_xticks(x)\n",
        "# ax.set_xticklabels(labels)\n",
        "# ax.legend()\n",
        "\n",
        "# plt.tight_layout()\n",
        "# plt.show()\n",
        "\n",
        "# # Part (b): Linear regression with sparse JL\n",
        "# results = []\n",
        "# rows = 10  # Target dimension\n",
        "\n",
        "# for experiment in range(5):\n",
        "#     # Create a sparse JL matrix\n",
        "#     M = create_sparse_jl_matrix(rows, d)  # M: 10 × 118\n",
        "\n",
        "#     # Map the data using the JL matrix\n",
        "#     E = M @ D.T  # Shape: (10, 494021)\n",
        "\n",
        "#     # Fit linear regression on transformed data (E.T) and original data (D)\n",
        "#     model_a = LinearRegression()\n",
        "#     model_a.fit(E.T, y_encoded)  # Transposed to match sample-wise regression\n",
        "#     a = model_a.coef_\n",
        "\n",
        "#     model_b = LinearRegression()\n",
        "#     model_b.fit(D, y_encoded)\n",
        "#     b = model_b.coef_\n",
        "\n",
        "#     # Compute regression loss\n",
        "#     predictions_a = E.T @ a  # Predictions using transformed features\n",
        "#     predictions_b = D @ b    # Predictions using original features\n",
        "\n",
        "#     loss_a = mean_squared_error(y_encoded, predictions_a)\n",
        "#     loss_b = mean_squared_error(y_encoded, predictions_b)\n",
        "\n",
        "#     results.append((loss_a, loss_b))\n",
        "#     print(f\"Experiment {experiment + 1}: Loss (a) = {loss_a}, Loss (b) = {loss_b}\")\n",
        "\n",
        "\n",
        "# # Plot regression loss results\n",
        "# results = np.array(results)\n",
        "# labels = [f\"Exp {i + 1}\" for i in range(5)]\n",
        "# x = np.arange(len(labels))\n",
        "# width = 0.35\n",
        "\n",
        "# fig, ax = plt.subplots(figsize=(8, 5))\n",
        "# ax.bar(x - width / 2, results[:, 0], width, label=\"Loss using a (E, z)\")\n",
        "# ax.bar(x + width / 2, results[:, 1], width, label=\"Loss using b (D, y)\")\n",
        "\n",
        "# ax.set_ylabel(\"Loss\")\n",
        "# ax.set_title(\"Comparison of Linear Regression Loss\")\n",
        "# ax.set_xticks(x)\n",
        "# ax.set_xticklabels(labels)\n",
        "# ax.legend()\n",
        "\n",
        "# plt.tight_layout()\n",
        "# plt.show()\n"
      ],
      "metadata": {
        "trusted": true,
        "execution": {
          "iopub.status.busy": "2024-11-25T15:16:31.467124Z",
          "iopub.execute_input": "2024-11-25T15:16:31.467598Z",
          "iopub.status.idle": "2024-11-25T15:16:31.47648Z",
          "shell.execute_reply.started": "2024-11-25T15:16:31.46755Z",
          "shell.execute_reply": "2024-11-25T15:16:31.475185Z"
        },
        "id": "RyWRXYx7-7du"
      },
      "outputs": [],
      "execution_count": null
    },
    {
      "cell_type": "code",
      "source": [],
      "metadata": {
        "trusted": true,
        "id": "GhBmAy0--7dw"
      },
      "outputs": [],
      "execution_count": null
    }
  ]
}